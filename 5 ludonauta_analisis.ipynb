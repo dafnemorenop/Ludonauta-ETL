{
 "cells": [
  {
   "cell_type": "code",
   "execution_count": null,
   "metadata": {},
   "outputs": [],
   "source": [
    "import pandas as pd\n",
    "import numpy as np \n",
    "import matplotlib.pyplot as plt\n",
    "import seaborn as sns\n",
    "import plotly.express as px\n",
    "from datetime import datetime\n",
    "from scipy import stats"
   ]
  },
  {
   "cell_type": "markdown",
   "metadata": {},
   "source": [
    "*Después de leer los archivos CSV, se guardan en dos DataFrames: df_juegos y df_precios.*"
   ]
  },
  {
   "cell_type": "code",
   "execution_count": null,
   "metadata": {},
   "outputs": [],
   "source": [
    "def convertir_a_lista(cadena):\n",
    "    return eval(cadena)\n",
    "\n",
    "df_juegos = pd.read_csv(\"juegos_ludonauta_airtable.csv\", converters={'Autores': convertir_a_lista,\n",
    "                                                                    'Categorias': convertir_a_lista,\n",
    "                                                                    'Mecanicas' : convertir_a_lista,\n",
    "                                                                    'Juegos relacionados' : convertir_a_lista})\n",
    "\n",
    "df_precios = pd.read_csv('precios_ludonauta_airtable.csv', converters ={'Nombre tienda': convertir_a_lista,\n",
    "                                                              'Precio': convertir_a_lista,\n",
    "                                                              'Disponibilidad' : convertir_a_lista})"
   ]
  },
  {
   "cell_type": "markdown",
   "metadata": {},
   "source": [
    "*Se añade la columna del nombre de los juegos al DataFrame de precios.*"
   ]
  },
  {
   "cell_type": "code",
   "execution_count": null,
   "metadata": {},
   "outputs": [],
   "source": [
    "df_precio = pd.merge(df_juegos, df_precios, on='Link', how='inner')\n",
    "\n",
    "columnas_borrar = ['Fecha publicacion', 'Autores', 'Categorias',\n",
    "                'Mecanicas', 'Puntuacion', 'Jugadores', 'Jugadores minimos',\n",
    "                'Jugadores maximos', 'Duracion', 'Duracion minima', 'Duracion maxima',\n",
    "                'Edad', 'Complejidad', 'Dep idioma', 'Edicion juegos',\n",
    "                'Juegos relacionados', 'Mediana duracion', 'Mediana jugadores'] \n",
    "\n",
    "df_precio = df_precio.drop(columnas_borrar, axis=1)\n"
   ]
  },
  {
   "cell_type": "markdown",
   "metadata": {},
   "source": [
    "*Se muestra lo que contiene el df de precios.*"
   ]
  },
  {
   "cell_type": "code",
   "execution_count": null,
   "metadata": {},
   "outputs": [],
   "source": [
    "df_precio = df_precio.drop(columns= {'Unnamed: 0_x', 'Unnamed: 0_y'}, axis=1)\n",
    "\n",
    "df_precio.head()"
   ]
  },
  {
   "cell_type": "markdown",
   "metadata": {},
   "source": [
    "*Se añade la columna de precio medio al DataFrame de juegos sin realizar un merge, ya que coinciden tanto el índice como el enlace con el DataFrame de precios.*"
   ]
  },
  {
   "cell_type": "code",
   "execution_count": null,
   "metadata": {},
   "outputs": [],
   "source": [
    "df_juegos['Precio medio'] = df_precio['Precio medio']\n",
    "df_juegos = df_juegos.drop('Unnamed: 0', axis=1)\n",
    "df_juegos['Edicion juegos'] = df_juegos['Edicion juegos'].astype(str)\n",
    "df_juegos['Edicion juegos'] = df_juegos['Edicion juegos'].apply(lambda x: eval(x)[0] if isinstance(eval(x), list) else x)\n",
    "\n",
    "df_juegos.head(3)"
   ]
  },
  {
   "cell_type": "markdown",
   "metadata": {},
   "source": [
    "*En describe se observa:*\n",
    "\n",
    "- **Fecha de publicación:** *La media de creaciones de juegos es de 2016, relativamente reciente.*\n",
    "\n",
    "- **Cantidad de jugadores:** *La mayoría están creados para un rango de  2 a 6 personas.*\n",
    "\n",
    "- **Duración del juego:** *La mediana es de 45 minutos.* \n",
    "\n",
    "- **Edad recomendada:** *La mediana muestra que a partir de los 10-11 años están creados todos los juegos.*\n",
    "\n",
    "- **Complejidad y Dep idioma:** *La media muestra que la gran mayoría es baja.*\n",
    "\n",
    "- **Jugadores:** *Tiene una mediana de 3-4 jugadores, todos los juegos.*\n",
    "\n",
    "- **Precio medio:** *La mediana muestra que los juegos tienen un precio medio de 26 euros y la media 33.*"
   ]
  },
  {
   "cell_type": "code",
   "execution_count": null,
   "metadata": {},
   "outputs": [],
   "source": [
    "df_juegos.describe()"
   ]
  },
  {
   "cell_type": "markdown",
   "metadata": {},
   "source": [
    "**Interpretación**\n",
    "- Hay una tendencia reciente en la producción de juegos, sugiriendo un aumento en el interés en la industria de los juegos de mesa en los últimos años.\n",
    "- La mayoría de los juegos están diseñados para 2 a 6 personas, destacando un enfoque en grupos más pequeños.\n",
    "- Ofrecen una experiencia de juego de duración moderada, adaptable a un tiempo limitado disponible.\n",
    "- Adecuados tanto para niños como para adultos.\n",
    "- Presentan baja complejidad y dependencia del idioma, haciéndolos accesibles para un público amplio.\n",
    "- El número de jugadores indica su idoneidad para grupos de tamaño estándar.\n",
    "- El rango de precios está dentro de lo razonable para lo que los consumidores pueden esperar pagar por estos juegos.\n",
    "\n",
    "En resumen, los juegos de mesa se centran en proporcionar una experiencia diversa y accesible, con énfasis en grupos más pequeños y duración moderada, lo que los hace atractivos para una amplia audiencia."
   ]
  },
  {
   "cell_type": "markdown",
   "metadata": {},
   "source": [
    "*Para iterar sobre las columnas que contienen listas, se emplea el método EXPLODE, el cual descompone las filas en tantas filas como elementos contengan las listas. Finalmente, se crea un nuevo DataFrame denominado df_explode.*\n",
    "\n",
    "*Al agrupar los datos de ese DF, en ciertas partes del notebook se utiliza la función de agregación enyunique, para extraer los números de juegos únicos.*"
   ]
  },
  {
   "cell_type": "code",
   "execution_count": null,
   "metadata": {},
   "outputs": [],
   "source": [
    "df_explode = df_juegos.explode(\"Categorias\").explode(\"Autores\").explode(\"Mecanicas\").explode(\"Juegos relacionados\").reset_index(drop = True)\n",
    "df_explode.head(3)"
   ]
  },
  {
   "cell_type": "markdown",
   "metadata": {},
   "source": [
    "## ANÁLISIS DE LOS AUTORES"
   ]
  },
  {
   "cell_type": "markdown",
   "metadata": {},
   "source": [
    "*La autoría de un juego puede atribuirse a uno o más autores, habiendo un total de 3985 y 583 juegos sin autor asignado. Se crea un df del número de juegos que ha creado cada autor, mostrando los 20 autores que más han creado.*"
   ]
  },
  {
   "cell_type": "code",
   "execution_count": null,
   "metadata": {},
   "outputs": [],
   "source": [
    "conteo_autores = {}\n",
    "\n",
    "for lista_autores in df_juegos[\"Autores\"]:\n",
    "    if isinstance(lista_autores, list):\n",
    "        for autor in lista_autores:\n",
    "            if autor in conteo_autores:\n",
    "                conteo_autores[autor] += 1\n",
    "            else:\n",
    "                conteo_autores[autor] = 1\n",
    "\n",
    "df_autores_n_juegos = pd.DataFrame(list(conteo_autores.items()), columns=[\"Autores\", \"Numero juegos\"])\n",
    "df_autores_n_juegos = df_autores_n_juegos.sort_values(by=\"Numero juegos\", ascending=False).head(21)\n",
    "df_autores_n_juegos"
   ]
  },
  {
   "cell_type": "markdown",
   "metadata": {},
   "source": [
    "*Se crea un gráfico de barras para representarlo (quitando Desconocido). Se puede observar la gran cantidad de juegos creados por Eric M. Lang.*"
   ]
  },
  {
   "cell_type": "code",
   "execution_count": null,
   "metadata": {},
   "outputs": [],
   "source": [
    "fig= px.bar(data_frame = df_autores_n_juegos.iloc[1:],\n",
    "       x          = \"Autores\",\n",
    "       y          = \"Numero juegos\",\n",
    "       opacity     = 0.5,\n",
    "       title = \"Top 20 autores\",\n",
    "       height = 700,\n",
    "       color_discrete_sequence= ['red']\n",
    "      )\n",
    "fig.update_layout(title_x=0.5)"
   ]
  },
  {
   "cell_type": "markdown",
   "metadata": {},
   "source": [
    "**Interpretación**\n",
    "- Un significativo número de juegos (583) carece de autor identificado, sugiriendo una diversidad de orígenes o una falta de información sobre los creadores.\n",
    "- Resalta la notable contribución de ciertos autores, siendo Eric M. Lang el que más destaca con el mayor número de juegos."
   ]
  },
  {
   "cell_type": "markdown",
   "metadata": {},
   "source": [
    "*Se observan algunos de los juegos que ha creado el autor con el mayor número de juegos.*"
   ]
  },
  {
   "cell_type": "code",
   "execution_count": null,
   "metadata": {},
   "outputs": [],
   "source": [
    "df_explode[df_explode[\"Autores\"] == \"Eric M. Lang\"].drop_duplicates(\"Link\").head()"
   ]
  },
  {
   "cell_type": "markdown",
   "metadata": {},
   "source": [
    "*Se crea un listado de los juegos creados por Eric M. Lang.*"
   ]
  },
  {
   "cell_type": "code",
   "execution_count": null,
   "metadata": {},
   "outputs": [],
   "source": [
    "df_explode[df_explode[\"Autores\"] == \"Eric M. Lang\"].drop_duplicates(\"Link\")[\"Nombre\"].to_list()"
   ]
  },
  {
   "cell_type": "markdown",
   "metadata": {},
   "source": [
    "**Interpretación**\n",
    "\n",
    "Se observa que Eric M. Lang ha creado una extensa lista de juegos de mesa que abarcan diferentes temáticas, sagas y universos, como Cthulhu, Marvel, Blood Rage, Juego de Tronos o Warhammer... \n",
    "\n",
    "Destaca en categorías como Cartas, Fantasía y Ciencia ficción, con mecanicas como Gestión de mano, Lanzamiento de dados, y Habilidades variables. Categorías y mecánicas que veremos más adelante que son tendencias notables y destacadas en la evolución actual de los juegos de mesa."
   ]
  },
  {
   "cell_type": "markdown",
   "metadata": {},
   "source": [
    "## NOMBRES DE LOS JUEGOS"
   ]
  },
  {
   "cell_type": "markdown",
   "metadata": {},
   "source": [
    "*Se muestran las palabras más populares (>100) a la hora de nombrar juegos. \n",
    "\n",
    "\"LCG\" significa Living Card Game, se sabe exactamente qué cartas se están obteniendo en cada expansión. "
   ]
  },
  {
   "cell_type": "code",
   "execution_count": null,
   "metadata": {},
   "outputs": [],
   "source": [
    "palabras_a_excluir = [\"de\", \"–\", \"of\", \"The\", \"El\", \"el\", \"La\", \"the\", \"y\", \"del\", \"La\", \"la\", \"&\", \"los\", \"Los\", \"en\"]\n",
    "\n",
    "conteo_palabras = df_juegos[\"Nombre\"].str.split().explode().value_counts().sort_values(ascending=False)\n",
    "conteo_palabras_filtrado = conteo_palabras[(~conteo_palabras.index.isin(palabras_a_excluir)) & (conteo_palabras > 100)]\n",
    "df_palabras_populares= pd.DataFrame(conteo_palabras_filtrado)\n",
    "df_palabras_populares"
   ]
  },
  {
   "cell_type": "markdown",
   "metadata": {},
   "source": [
    "**Interpretación**\n",
    "\n",
    "Las tendencias notables en juegos de mesa incluyen un interés en juegos de cartas coleccionables (LCG), franquicias populares como Star Wars y Marvel, y temáticas de fantasía, especialmente relacionadas con la serie Juego de Tronos."
   ]
  },
  {
   "cell_type": "markdown",
   "metadata": {},
   "source": [
    "*Por qué letras empiezan más los nombres de los juegos.*"
   ]
  },
  {
   "cell_type": "code",
   "execution_count": null,
   "metadata": {},
   "outputs": [],
   "source": [
    "primeras_letras = df_juegos[\"Nombre\"].str[0].str.upper()\n",
    "\n",
    "conteo_letras = primeras_letras.value_counts().sort_values(ascending=False)\n",
    "conteo_letras.head()"
   ]
  },
  {
   "cell_type": "markdown",
   "metadata": {},
   "source": [
    "**Interpretación**\n",
    "\n",
    "Al diseñar un juego de mesa, la creación de un nombre original implica considerar letras o palabras iniciales diferentes, lo cual contribuirá a resaltar y hacer más memorable la identidad del juego."
   ]
  },
  {
   "cell_type": "markdown",
   "metadata": {},
   "source": [
    "## EDICIÓN DE JUEGOS\n",
    "\n",
    "- **Juego de Mesa Base:** *La edición principal del juego. Cuando en juegos relacionados pone \"Ninguno\", es porque es el juego principal.*\n",
    "\n",
    "- **Expansión:** *Una edición que añade contenido adicional al juego base, como nuevas reglas, componentes o temáticas.*\n",
    "\n",
    "- **Integración:** *Una edición que se integra con otras ediciones o juegos, permitiendo combinarlos para una experiencia más amplia.*\n",
    "\n",
    "- **Reimplementación:** *Una edición que conserva algunas mecánicas clave pero presenta cambios significativos en el tema, diseño o reglas.*"
   ]
  },
  {
   "cell_type": "markdown",
   "metadata": {},
   "source": [
    "*Recuento de juegos para cada tipo de edición.*"
   ]
  },
  {
   "cell_type": "code",
   "execution_count": null,
   "metadata": {},
   "outputs": [],
   "source": [
    "n_edicion_juegos = df_juegos.groupby(\"Edicion juegos\")[\"Juegos relacionados\"].count().reset_index(name=\"Count\")\n",
    "n_edicion_juegos"
   ]
  },
  {
   "cell_type": "markdown",
   "metadata": {},
   "source": [
    "*Representación de la edición de juegos mediante un gráfico de pastel.*"
   ]
  },
  {
   "cell_type": "code",
   "execution_count": null,
   "metadata": {},
   "outputs": [],
   "source": [
    "fig= px.pie(data_frame = n_edicion_juegos,\n",
    "       names      = \"Edicion juegos\",\n",
    "       title      = \"Porcentajes de edición de juegos\",\n",
    "       values     = \"Count\",\n",
    "       opacity    = 1)\n",
    "fig.update_layout(title_x=0.5)"
   ]
  },
  {
   "cell_type": "markdown",
   "metadata": {},
   "source": [
    "**Interpretación**\n",
    "\n",
    "La diversidad en las categorías de ediciones de juegos revela distintas estrategias y enfoques en la industria de los juegos de mesa, desde expansiones y juegos base hasta integraciones y reimplementaciones. \n",
    "\n",
    "La presencia considerable de juegos de mesa base sugiere que sigue siendo una parte fundamental en la industria de juegos de mesa. El porcentaje de expansión refleja una tendencia a desarrollar y lanzar contenido adicional para juegos existentes."
   ]
  },
  {
   "cell_type": "markdown",
   "metadata": {},
   "source": [
    "*Se crea un gráfico de sol para observar el porcentaje para los 50 juegos con mayor puntuación creados por cada autor para cada tipo de edición, teniendo en cuenta que pueden aparecer en varios tipos.*"
   ]
  },
  {
   "cell_type": "code",
   "execution_count": null,
   "metadata": {},
   "outputs": [],
   "source": [
    "df = df_explode.groupby(['Edicion juegos','Autores'], as_index= False).agg({('Puntuacion') : 'max'}).sort_values('Puntuacion', ascending = False).head(50)\n",
    "\n",
    "\n",
    "fig = px.sunburst( data_frame  = df,\n",
    "                    values     = 'Puntuacion',\n",
    "                    path       = ['Edicion juegos', 'Autores'],\n",
    "                    color      = 'Puntuacion',\n",
    "                    height= 750,\n",
    "                    title= \"Porcentaje de Tipos de Edición en los 50 Juegos Mejor Puntuados por Autor\"\n",
    "                )\n",
    "fig.update_layout(margin=dict(l=0, r=0, b=8, t=80), title_x=0.5)\n",
    "fig.update_traces(textinfo=\"label+percent parent\", branchvalues=\"total\")\n",
    "fig.show()"
   ]
  },
  {
   "cell_type": "markdown",
   "metadata": {},
   "source": [
    "**Interpretación**\n",
    "\n",
    "Los autores que desarrollaron reimplementaciones y expansiones obtuvieron una puntuación más alta, posiblemente debido a que estos productos suelen ser adquiridos después del juego de mesa base, ya que los jugadores conocen y disfrutan del juego original, lo que contribuye a un aumento en la puntuación.\n",
    "\n",
    "Los autores más destacados coinciden con el análisis de las puntuaciones por nombre de juego que aparece más adelante. Es notable la ausencia de Eric M. Lang entre los 50 con mejor puntuación; sugiriendo que la calidad supera a la cantidad.\n",
    "\n",
    "Jacob Fryxelius sobresale con la mejor puntuación entre todos los demás. Es un autor sueco creador del Terraforming Mars, que es un juego de gestión de cartas y recursos en el que se juega para conseguir terraformar Marte. "
   ]
  },
  {
   "cell_type": "markdown",
   "metadata": {},
   "source": [
    "*Juegos creados por Jacob Fryxelius*"
   ]
  },
  {
   "cell_type": "code",
   "execution_count": null,
   "metadata": {},
   "outputs": [],
   "source": [
    "df_explode[df_explode[\"Autores\"] == \"Jacob Fryxelius\"].drop_duplicates(\"Link\")[\"Nombre\"].to_list()"
   ]
  },
  {
   "cell_type": "markdown",
   "metadata": {},
   "source": [
    "## ANÁLISIS DE LOS JUEGOS RELACIONADOS"
   ]
  },
  {
   "cell_type": "markdown",
   "metadata": {},
   "source": [
    "* Se crea un DataFrame del número de veces que aparece cada juegos relacionados y se muestran los 15 más populares.*\n",
    "- *Hay un total de 1729 juegos relacionados y 5588 juegos base (pone \"Ninguno\" en juegos relacionados porque es el juego principal).*"
   ]
  },
  {
   "cell_type": "code",
   "execution_count": null,
   "metadata": {},
   "outputs": [],
   "source": [
    "conteo_juegos_relacionados = {}\n",
    "\n",
    "for lista_juegos_relacionados in df_juegos['Juegos relacionados']:\n",
    "    if isinstance(lista_juegos_relacionados, list):\n",
    "        for relacionados in lista_juegos_relacionados:\n",
    "            if relacionados in conteo_juegos_relacionados:\n",
    "                conteo_juegos_relacionados[relacionados] += 1\n",
    "            else:\n",
    "                conteo_juegos_relacionados[relacionados] = 1\n",
    "\n",
    "df_juegos_relacionados = pd.DataFrame(list(conteo_juegos_relacionados.items()), columns=[\"Juegos relacionados\", \"Numero Juegos relacionados\"])\n",
    "df_juegos_relacionados = df_juegos_relacionados.sort_values(by=\"Numero Juegos relacionados\", ascending=False).head(16)\n",
    "df_juegos_relacionados"
   ]
  },
  {
   "cell_type": "markdown",
   "metadata": {},
   "source": [
    "*Se muestra en un gráfico de barras los juegos relacionados más numerosos quitando los juegos de mesa base.*"
   ]
  },
  {
   "cell_type": "code",
   "execution_count": null,
   "metadata": {},
   "outputs": [],
   "source": [
    "fig = px.bar(df_juegos_relacionados[1:],\n",
    "             x                       = 'Juegos relacionados',\n",
    "             y                       = 'Numero Juegos relacionados',  \n",
    "             title                   = 'Top 15 juegos relacionados',\n",
    "             opacity                 = 0.5,\n",
    "             height                  = 700,\n",
    "             color                   = 'Juegos relacionados'\n",
    "            )\n",
    "\n",
    "fig.update_xaxes(showticklabels=False)\n",
    "fig.update_layout(xaxis = {'categoryorder' : 'total descending'}, title_x=0.5)\n",
    "\n",
    "fig.show()"
   ]
  },
  {
   "cell_type": "markdown",
   "metadata": {},
   "source": [
    "**Interpretación**\n",
    "\n",
    "Los juegos relacionados más populares son \"Juego de Tronos: LCG\", \"Canción de hielo y fuego: Caja de inicio\", y \"Arkham Horror: LCG\" \n",
    "Hay un gran número de juegos relacionados con universos temáticos específicos, destacando los basados en Juego de Tronos, Arkham Horror y Star Wars. No es de extrañar que tanto Juego de Tronos como Star Wars aparezcan entre las palabras más populares para nombrar juegos.\n",
    "\n",
    "Juegos tipo Living Card Game (LCG) tienen una presencia destacada, indicando un interés en juegos de cartas estratégicos y en la colección de cartas."
   ]
  },
  {
   "cell_type": "markdown",
   "metadata": {},
   "source": [
    "## ANÁLISIS DE LAS CATEGORÍAS\n",
    "Géneros o temáticas asignadas a juegos de mesa. Hay un total de 81 categorías, pudiendo ser simultáneas."
   ]
  },
  {
   "cell_type": "markdown",
   "metadata": {},
   "source": [
    "*DataFrame para representar la distribución de juegos en diversas categorías.*"
   ]
  },
  {
   "cell_type": "code",
   "execution_count": null,
   "metadata": {},
   "outputs": [],
   "source": [
    "conteo_categorias = {}\n",
    "\n",
    "for lista_categorias in df_juegos[\"Categorias\"]:\n",
    "    if isinstance(lista_categorias, list):\n",
    "        for categoria in lista_categorias:\n",
    "            if categoria in conteo_categorias:\n",
    "                conteo_categorias[categoria] += 1\n",
    "            else:\n",
    "                conteo_categorias[categoria] = 1\n",
    "\n",
    "df_numero_categorias = pd.DataFrame(list(conteo_categorias.items()), columns=[\"Categorias\", \"Numero categorias\"])\n",
    "df_numero_categorias = df_numero_categorias.sort_values(by=\"Numero categorias\", ascending=False)\n",
    "df_numero_categorias #.head(15)"
   ]
  },
  {
   "cell_type": "markdown",
   "metadata": {},
   "source": [
    "*A través de un gráfico de barras, se muestran las 15 categorías que aparecen más.*"
   ]
  },
  {
   "cell_type": "code",
   "execution_count": null,
   "metadata": {},
   "outputs": [],
   "source": [
    "fig = px.bar(df_numero_categorias[:15],\n",
    "             x                       = 'Categorias',\n",
    "             y                       = 'Numero categorias',  \n",
    "             title                   = 'Top 15 categorías en los distintos juegos',\n",
    "             opacity                 = 0.5,\n",
    "             height                  = 700,\n",
    "             color_discrete_sequence = ['magenta']\n",
    "            )\n",
    "fig.update_layout(xaxis = {'categoryorder' : 'total descending'}, title_x=0.5)\n",
    "fig.update_traces(showlegend=False)\n",
    "fig.show()"
   ]
  },
  {
   "cell_type": "markdown",
   "metadata": {},
   "source": [
    "**Interpretación**\n",
    "\n",
    "Se observa una clara predominancia de las categorías relacionadas con cartas y fantasía. Las categorías de combate, ciencia ficción, wargame y miniaturas también son numerosas."
   ]
  },
  {
   "cell_type": "code",
   "execution_count": null,
   "metadata": {},
   "outputs": [],
   "source": [
    "categorias_lista= df_juegos[\"Categorias\"].tolist()\n",
    "categorias_unicas_conjuntos = set()\n",
    "\n",
    "# Iterar sobre cada lista y convertirla en un conjunto, luego agregarlo al conjunto global\n",
    "for lista in categorias_lista:\n",
    "    categorias_unicas_conjuntos.add(tuple(set(lista)))\n",
    "\n",
    "print(categorias_unicas_conjuntos)\n",
    "print(len(categorias_unicas_conjuntos))"
   ]
  },
  {
   "cell_type": "code",
   "execution_count": null,
   "metadata": {},
   "outputs": [],
   "source": [
    "frecuencia_categorias = {}\n",
    "\n",
    "for lista in categorias_lista:\n",
    "    conjunto = tuple(set(lista))\n",
    "    if conjunto in frecuencia_categorias:\n",
    "        frecuencia_categorias[conjunto] += 1\n",
    "    else:\n",
    "        frecuencia_categorias[conjunto] = 1\n",
    "\n",
    "df_frecuencia_categorias = pd.DataFrame(list(frecuencia_categorias.items()), columns=['Categorias', 'Frecuencia'])\n",
    "df_frecuencia_categorias = df_frecuencia_categorias.sort_values(by='Frecuencia', ascending=False)\n",
    "\n",
    "df_frecuencia_categorias.head(20)"
   ]
  },
  {
   "cell_type": "markdown",
   "metadata": {},
   "source": [
    "## ANÁLISIS DE LAS MECÁNICAS\n",
    "Las normas que dirigen cómo los jugadores interactúan entre ellos y con el juego. Hay un total de 192 mecánicas, pudiendo ser simultáneas.\n"
   ]
  },
  {
   "cell_type": "markdown",
   "metadata": {},
   "source": [
    "*Se crea un DataFrame del número de veces que aparece cada una y se muestran las 15 más populares.*"
   ]
  },
  {
   "cell_type": "code",
   "execution_count": null,
   "metadata": {},
   "outputs": [],
   "source": [
    "conteo_mecanicas = {}\n",
    "\n",
    "for lista_mecanicas in df_juegos[\"Mecanicas\"]:\n",
    "    if isinstance(lista_mecanicas, list):\n",
    "        for mecanica in lista_mecanicas:\n",
    "            if mecanica in conteo_mecanicas:\n",
    "                conteo_mecanicas[mecanica] += 1\n",
    "            else:\n",
    "                conteo_mecanicas[mecanica] = 1\n",
    "\n",
    "df_numero_mecanicas = pd.DataFrame(list(conteo_mecanicas.items()), columns=[\"Mecanicas\", \"Numero mecanicas\"])\n",
    "df_numero_mecanicas = df_numero_mecanicas.sort_values(by=\"Numero mecanicas\", ascending=False).head(15)\n",
    "df_numero_mecanicas"
   ]
  },
  {
   "cell_type": "markdown",
   "metadata": {},
   "source": [
    "*Se filtran las mecánicas que aparecen en el DataFrame de arriba y se observa el número que hay en relación a la edición de juegos.*"
   ]
  },
  {
   "cell_type": "code",
   "execution_count": null,
   "metadata": {},
   "outputs": [],
   "source": [
    "mecanicas_filtradas = df_numero_mecanicas[\"Mecanicas\"].to_list()\n",
    "df_mecanicas_filtradas = df_explode[df_explode[\"Mecanicas\"].isin(mecanicas_filtradas)]\n",
    "df_mecanicas_edicion = df_mecanicas_filtradas.groupby([\"Mecanicas\", \"Edicion juegos\"], as_index=False)['Link'].nunique().rename(columns={'Link': 'Count'})\n",
    "\n",
    "df_mecanicas_edicion.head(8)"
   ]
  },
  {
   "cell_type": "markdown",
   "metadata": {},
   "source": [
    "*La gráfica de barras muestra la cantidad de veces que se han registrado las mecánicas más populares en las diferentes ediciones de juegos.*"
   ]
  },
  {
   "cell_type": "code",
   "execution_count": null,
   "metadata": {},
   "outputs": [],
   "source": [
    "fig = px.bar(df_mecanicas_edicion,\n",
    "             x='Mecanicas',\n",
    "             y='Count',  \n",
    "             color='Edicion juegos',\n",
    "             title='Número de mecánicas en relación a la edición de juegos',\n",
    "             height=700\n",
    "            )\n",
    "fig.update_layout(xaxis = {'categoryorder' : 'total descending'}, title_x=0.5)\n",
    "fig.show()"
   ]
  },
  {
   "cell_type": "markdown",
   "metadata": {},
   "source": [
    "**Interpretación**\n",
    "\n",
    "Destacan mecánicas como gestión de mano, lanzamiento de dados o habilidades variables; coincidiendo con la categoría predominante cartas.\n",
    "\n",
    "No se observa una diferencia significativa entre cada mecánica y el número de edición de juegos; parece que los datos muestran un comportamiento similar."
   ]
  },
  {
   "cell_type": "markdown",
   "metadata": {},
   "source": [
    "*Se agruoan las mecánicas del juego, separándolas por edición de juegos.*"
   ]
  },
  {
   "cell_type": "code",
   "execution_count": null,
   "metadata": {},
   "outputs": [],
   "source": [
    "df_juegos_relacion = df_explode.groupby(['Edicion juegos', 'Juegos relacionados'], as_index= False).nunique().sort_values('Link', ascending= False)\n",
    "df_juegos_relacion.head()"
   ]
  },
  {
   "cell_type": "markdown",
   "metadata": {},
   "source": [
    "*Se crea un gráfico de mapa de árbol interactivo para ver la relación que existe entre las reediciones y sus juegos base.*"
   ]
  },
  {
   "cell_type": "code",
   "execution_count": null,
   "metadata": {},
   "outputs": [],
   "source": [
    "fig= px.treemap(data_frame = df_juegos_relacion[1:],\n",
    "           values     = 'Link',\n",
    "           path       = ['Edicion juegos','Juegos relacionados'],\n",
    "           color      = 'Edicion juegos',\n",
    "           hover_name= 'Link',\n",
    "           custom_data= 'Link',\n",
    "           title= \"Análisis de la Relación entre Reediciones y Juegos Base\"\n",
    "           )    \n",
    "fig.update_layout(title_x=0.5)"
   ]
  },
  {
   "cell_type": "markdown",
   "metadata": {},
   "source": [
    "## ANÁLISIS DEL TIEMPO"
   ]
  },
  {
   "cell_type": "markdown",
   "metadata": {},
   "source": [
    "*Se crea un gráfico de caja para observar el rango de duración.*"
   ]
  },
  {
   "cell_type": "code",
   "execution_count": null,
   "metadata": {},
   "outputs": [],
   "source": [
    "fig= px.box(data_frame = df_juegos,\n",
    "       x          = 'Mediana duracion',\n",
    "       title= 'Duración de juegos')\n",
    "fig.update_layout(title_x=0.5)"
   ]
  },
  {
   "cell_type": "markdown",
   "metadata": {},
   "source": [
    "**Interpretación**\n",
    "\n",
    "Se observa la presencia de un gran número de outliers en el tiempo de duración de los juegos, quedando el rango medio entre 1 minuto y 140; siendo la mediana de 45 minutos de juego.\n",
    "\n",
    "Aunque existen valores extremos en el tiempo de duración de los juegos, la mayor concentración se encuentra en el rango medio, y la mediana proporciona una medida robusta del valor central del conjunto de datos.\n",
    "\n",
    "Al buscar el juego con mayor duración, con valor atípico, se observa que no se trata de un error, ya que es un juego caracterizado por partidas de rol de una duración considerablemente extensa."
   ]
  },
  {
   "cell_type": "markdown",
   "metadata": {},
   "source": [
    "*Juego con mayor duración*"
   ]
  },
  {
   "cell_type": "code",
   "execution_count": null,
   "metadata": {},
   "outputs": [],
   "source": [
    "df_juegos[(df_juegos['Mediana duracion'] == 5004.5)]"
   ]
  },
  {
   "cell_type": "markdown",
   "metadata": {},
   "source": [
    "*Filtrado de los datos de la Mediana duración, eliminando los outliers.*"
   ]
  },
  {
   "cell_type": "code",
   "execution_count": null,
   "metadata": {},
   "outputs": [],
   "source": [
    "Q1 = df_juegos['Mediana duracion'].quantile(0.25)\n",
    "Q3 = df_juegos['Mediana duracion'].quantile(0.75)\n",
    "IQR = Q3 - Q1\n",
    "\n",
    "df_filtrados = df_juegos[(df_juegos['Mediana duracion'] >= Q1 - 1.5 * IQR) & (df_juegos['Mediana duracion'] <= Q3 + 1.5 * IQR)]"
   ]
  },
  {
   "cell_type": "markdown",
   "metadata": {},
   "source": [
    "*Se crea un histrograma para representar las duraciones filtradas.*"
   ]
  },
  {
   "cell_type": "code",
   "execution_count": null,
   "metadata": {},
   "outputs": [],
   "source": [
    "fig= px.histogram( data_frame= df_filtrados,\n",
    "       x = 'Mediana duracion',\n",
    "       opacity= 0.5,\n",
    "       color_discrete_sequence= ['orange'],\n",
    "       title= 'Duración de juegos')\n",
    "fig.update_layout(title_x=0.5)"
   ]
  },
  {
   "cell_type": "markdown",
   "metadata": {},
   "source": [
    "**Interpretación**\n",
    "\n",
    "Se observa que la predominancia de las duraciones de los juegos está entre 30 y 60 minutos."
   ]
  },
  {
   "cell_type": "markdown",
   "metadata": {},
   "source": [
    "## CORRELACIONES ENTRE LOS DATOS"
   ]
  },
  {
   "cell_type": "markdown",
   "metadata": {},
   "source": [
    "*Mapa de calor para examinar correlaciones lineales.*"
   ]
  },
  {
   "cell_type": "code",
   "execution_count": null,
   "metadata": {},
   "outputs": [],
   "source": [
    "fig= px.imshow(img       = round(df_juegos[[\"Fecha publicacion\", \"Puntuacion\", \"Mediana jugadores\", \"Mediana duracion\", \"Edad\", \"Complejidad\", \"Dep idioma\", 'Precio medio']].corr(), 1),\n",
    "          text_auto = True, title= \"Correlaciones Lineales\")\n",
    "fig.update_layout(title_x=0.5)"
   ]
  },
  {
   "cell_type": "markdown",
   "metadata": {},
   "source": [
    "*La única correlación significativa mediante el coeficiente de Pearson es entre Complejidad y Edad, hay una correlación moderada positiva.*"
   ]
  },
  {
   "cell_type": "code",
   "execution_count": null,
   "metadata": {},
   "outputs": [],
   "source": [
    "corr_complejidad_edad = df_juegos[\"Complejidad\"].corr(df_juegos[\"Edad\"])\n",
    "corr_complejidad_edad"
   ]
  },
  {
   "cell_type": "markdown",
   "metadata": {},
   "source": [
    "*Se crea un diagrama de dispersión. La línea representa la línea de regresión.*"
   ]
  },
  {
   "cell_type": "code",
   "execution_count": null,
   "metadata": {},
   "outputs": [],
   "source": [
    "fig= px.scatter(data_frame  = df_juegos,\n",
    "           x           = \"Complejidad\",\n",
    "           y           = \"Edad\",\n",
    "           title       = \"Correlación lineal entre complejidad y edad\",\n",
    "           opacity     = 0.5,\n",
    "           trendline   = 'ols')\n",
    "fig.update_layout(title_x=0.5)"
   ]
  },
  {
   "cell_type": "markdown",
   "metadata": {},
   "source": [
    "**Interpretación**\n",
    "\n",
    "El gráfico representa que a medida que la complejidad de los juegos de mesa aumenta, la edad mínima recomendada de los jugadores también tiende a aumentar."
   ]
  },
  {
   "cell_type": "markdown",
   "metadata": {},
   "source": [
    "*Utilizando la correlación de Kendall se detecta una correlación no lineal entre complejidad y mediana duración.*"
   ]
  },
  {
   "cell_type": "code",
   "execution_count": null,
   "metadata": {},
   "outputs": [],
   "source": [
    "lista_columnas = ['Edad', 'Puntuacion', 'Mediana duracion', 'Complejidad', 'Mediana jugadores', 'Dep idioma', 'Precio medio']\n",
    "\n",
    "for i in lista_columnas:\n",
    "    for j in lista_columnas:\n",
    "        if i != j:  \n",
    "            corr_columnas = df_juegos[i].corr(df_juegos[j], method='kendall')\n",
    "            if corr_columnas >= 0.5:\n",
    "                print(f\"Correlación entre {i} y {j}: {corr_columnas}\")"
   ]
  },
  {
   "cell_type": "markdown",
   "metadata": {},
   "source": [
    "*Se utiliza matplotlib para representar con un gráfico de dispersión la correlación de Kendall.*"
   ]
  },
  {
   "cell_type": "code",
   "execution_count": null,
   "metadata": {},
   "outputs": [],
   "source": [
    "sns.scatterplot(x='Complejidad', y='Mediana duracion', data=df_juegos)\n",
    "plt.title('Correlación entre complejidad y mediana duración')\n",
    "plt.xlabel('Complejidad')\n",
    "plt.ylabel('Mediana duracion')\n",
    "\n",
    "sns.scatterplot(x='Complejidad', y='Mediana duracion', data=df_juegos)\n",
    "\n",
    "plt.show()"
   ]
  },
  {
   "cell_type": "markdown",
   "metadata": {},
   "source": [
    "**Interpretación**\n",
    "\n",
    "En la gráfica se observa que los juegos más complejos podrían tomar más tiempo en promedio que juegos menos complejos."
   ]
  },
  {
   "cell_type": "markdown",
   "metadata": {},
   "source": [
    "## ANÁLISIS DE LOS DATOS A LO LARGO DEL TIEMPO"
   ]
  },
  {
   "cell_type": "markdown",
   "metadata": {},
   "source": [
    "*Fecha de creación de los juegos.*"
   ]
  },
  {
   "cell_type": "code",
   "execution_count": null,
   "metadata": {},
   "outputs": [],
   "source": [
    "fecha_min= df_juegos[\"Fecha publicacion\"].min()\n",
    "fecha_max= df_juegos[\"Fecha publicacion\"].max()\n",
    "print(f\"La fecha mínima de los juegos es: {fecha_min} y la máxima es: {fecha_max}.\")"
   ]
  },
  {
   "cell_type": "markdown",
   "metadata": {},
   "source": [
    "*Se crea un DataFrame con los juegos registrados en la página. Hay que tener en cuenta que 2024 ha iniciado ahora.*"
   ]
  },
  {
   "cell_type": "code",
   "execution_count": null,
   "metadata": {},
   "outputs": [],
   "source": [
    "df_fecha_publicaciones = df_juegos.groupby('Fecha publicacion', as_index= False)['Link'].agg({'Link' : 'count'}).rename(columns= {'Link':'Publicaciones'})\n",
    "df_fecha_publicaciones['Cumsum'] = df_fecha_publicaciones['Publicaciones'].cumsum()\n",
    "\n",
    "df_fecha_publicaciones"
   ]
  },
  {
   "cell_type": "markdown",
   "metadata": {},
   "source": [
    "*Representación las dos últimas décadas en una gráfica de rectas.*"
   ]
  },
  {
   "cell_type": "code",
   "execution_count": null,
   "metadata": {},
   "outputs": [],
   "source": [
    "fig= px.line(data_frame = df_fecha_publicaciones[-25:],\n",
    "        x          = 'Fecha publicacion',\n",
    "        y          = 'Publicaciones',\n",
    "        title   = 'Evolución de publicaciones en las dos úlimas décadas',\n",
    "        height     =  700)\n",
    "fig.update_layout(title_x=0.5)"
   ]
  },
  {
   "cell_type": "markdown",
   "metadata": {},
   "source": [
    "**Interpretación**\n",
    "\n",
    "Se observa el impacto de la pandemia de COVID-19, que inició a principios del año 2020 sobre el crecimiento exponencial de la creación de juegos ese año y la pronta recuperación del mercado."
   ]
  },
  {
   "cell_type": "markdown",
   "metadata": {},
   "source": [
    "*Gráfica de rectas para mostrar la evolución acumulativa de los juegos de mesa.*"
   ]
  },
  {
   "cell_type": "code",
   "execution_count": null,
   "metadata": {},
   "outputs": [],
   "source": [
    "fig = px.line(\n",
    "    data_frame=df_fecha_publicaciones,\n",
    "    x='Fecha publicacion',\n",
    "    y='Cumsum',\n",
    "    title='Evolución acumulativa de publicaciones a lo largo de los años',\n",
    "    height=700\n",
    ")\n",
    "\n",
    "fig.update_layout(title_x=0.5)\n",
    "fig.show()"
   ]
  },
  {
   "cell_type": "markdown",
   "metadata": {},
   "source": [
    "**Interpretación**\n",
    "\n",
    "Se observa cómo a partir de 2020 empieza a haber un aumento, cada vez más pronunciado, en la creación y popularidad de juegos de mesa. Puede que el tiempo en casa durante la pandemia haya favorecido a ello."
   ]
  },
  {
   "cell_type": "markdown",
   "metadata": {},
   "source": [
    "*DataFrame que muestra el número de ediciones de juegos en diferentes años.*"
   ]
  },
  {
   "cell_type": "code",
   "execution_count": null,
   "metadata": {},
   "outputs": [],
   "source": [
    "df_fechas_edicion = df_explode.groupby(['Edicion juegos', 'Fecha publicacion'], as_index=False)['Link'].nunique().rename(columns={'Link': 'Count'})\n",
    "df_fechas_edicion['Cumulative Count'] = df_fechas_edicion.groupby('Edicion juegos')['Count'].cumsum()\n",
    "\n",
    "df_fechas_edicion"
   ]
  },
  {
   "cell_type": "markdown",
   "metadata": {},
   "source": [
    "*Gráfica de líneas que ilustra la relación entre la fecha de publicación y el número de ediciones de juegos en las últimas décadas, con el propósito de observar el posible impacto del COVID-19 en la edición de juegos.*"
   ]
  },
  {
   "cell_type": "code",
   "execution_count": null,
   "metadata": {},
   "outputs": [],
   "source": [
    "df_fecha_filtrada = df_fechas_edicion[df_fechas_edicion['Fecha publicacion'] >= 2010]\n",
    "\n",
    "fig = px.line(data_frame=df_fecha_filtrada, x='Fecha publicacion', y='Count', color='Edicion juegos', height=700, title='Impacto de la Pandemia en la Edición de Juegos de Mesa',\n",
    ")\n",
    "fig.update_layout(title_x=0.5)\n",
    "\n",
    "fig.add_vline(x=2020, line_dash=\"dash\", line_color=\"red\", name=\"Covid\")\n",
    "\n",
    "fig.show()"
   ]
  },
  {
   "cell_type": "markdown",
   "metadata": {},
   "source": [
    "**Interpretación**\n",
    "\n",
    "Se aprecia un evidente crecimiento en la industria de los juegos de mesa, experimentando un éxito constante y en ascenso, con la excepción de la pandemia. Durante este período, las ediciones de juegos más afectadas fueron los juegos de mesa base; sin embargo, también son los que muestran una mayor recuperación posteriormente.\n",
    "\n",
    "La disminución en el año 2023 puede atribuirse a la posibilidad de que no estén registrados en la página todos los juegos recién creados, mientras que la reducción en 2024 puede deberse al comienzo del año."
   ]
  },
  {
   "cell_type": "markdown",
   "metadata": {},
   "source": [
    "*Suma acumulativa de la edición de juegos.*"
   ]
  },
  {
   "cell_type": "code",
   "execution_count": null,
   "metadata": {},
   "outputs": [],
   "source": [
    "fig= px.line(data_frame = df_fechas_edicion,\n",
    "        x          = 'Fecha publicacion',\n",
    "        y          = 'Cumulative Count',\n",
    "        color      = 'Edicion juegos',\n",
    "        title      = \"Suma Acumulativa en la Edición de Juegos\",\n",
    "        height     =  700)\n",
    "\n",
    "fig.update_layout(title_x=0.5)\n"
   ]
  },
  {
   "cell_type": "markdown",
   "metadata": {},
   "source": [
    "**Interpretación**\n",
    "\n",
    "Es evidente que la creación de juegos ha tenido un crecimiento rápido, sobre todo en la última década."
   ]
  },
  {
   "cell_type": "markdown",
   "metadata": {},
   "source": [
    "*Gráfica interactiva*\n",
    "- *Se observa una tendencia de aumento similar en el uso de las mecánicas de juego, especialmente en las más populares.*"
   ]
  },
  {
   "cell_type": "code",
   "execution_count": null,
   "metadata": {},
   "outputs": [],
   "source": [
    "df_mecanicas = df_explode.groupby(['Mecanicas', 'Fecha publicacion'], as_index = False)['Link'].nunique().rename(columns={'Link': 'Count'})\n",
    "\n",
    "fig= px.line(data_frame = df_mecanicas,\n",
    "        x          = 'Fecha publicacion',\n",
    "        y          = 'Count',\n",
    "        color      = 'Mecanicas',\n",
    "        height     =  700,\n",
    "        title= \"Análisis Interactivo de Tendencias en el Uso de Mecánicas de Juego\")\n",
    "fig.update_layout(title_x=0.5)\n"
   ]
  },
  {
   "cell_type": "markdown",
   "metadata": {},
   "source": [
    "*Gráfica interactiva*\n",
    "- *Se evidencia una tendencia de aumento similar en el uso de las categorías, especialmente en las más populares.*"
   ]
  },
  {
   "cell_type": "code",
   "execution_count": null,
   "metadata": {},
   "outputs": [],
   "source": [
    "\n",
    "df_categorias = df_explode.groupby(['Categorias', 'Fecha publicacion'], as_index = False)['Link'].nunique().rename(columns={'Link': 'Count'})\n",
    "\n",
    "fig= px.line(data_frame = df_categorias,\n",
    "        x          = 'Fecha publicacion',\n",
    "        y          = 'Count',\n",
    "        color      = 'Categorias',\n",
    "        height     =  1000,\n",
    "        title= \"Exploración Interactiva de Tendencias en el Uso de Categorías\")\n",
    "fig.update_layout(title_x=0.5)"
   ]
  },
  {
   "cell_type": "markdown",
   "metadata": {},
   "source": [
    "## ANÁLISIS DEL PRECIO"
   ]
  },
  {
   "cell_type": "markdown",
   "metadata": {},
   "source": [
    "*Se muestran los nombres de los juegos y los precios. Los precios más bajos representan expansiones de cartas y los más caros suelen atribuirse a colecciones grandes de miniaturas y mapas.*"
   ]
  },
  {
   "cell_type": "code",
   "execution_count": null,
   "metadata": {},
   "outputs": [],
   "source": [
    "df_precios = df_juegos.sort_values(by=\"Precio medio\")\n",
    "columnas_nombre_precio = [\"Nombre\", \"Precio medio\"]\n",
    "\n",
    "df_precios[columnas_nombre_precio]"
   ]
  },
  {
   "cell_type": "markdown",
   "metadata": {},
   "source": [
    "*Histograma para analizar los precios de los juegos, se representan mediana (verde) y media (rojo).*"
   ]
  },
  {
   "cell_type": "code",
   "execution_count": null,
   "metadata": {},
   "outputs": [],
   "source": [
    "fig = px.histogram(data_frame=df_precio, x='Precio medio')\n",
    "\n",
    "media = np.mean(df_precio['Precio medio'])\n",
    "mediana = np.median(df_precio['Precio medio'])\n",
    "\n",
    "fig.add_vline(x=media, line_dash=\"dash\", line_color=\"red\", name=\"Media\")\n",
    "fig.add_vline(x=mediana, line_dash=\"dash\", line_color=\"green\", name=\"Mediana\")\n",
    "\n",
    "fig.update_layout(title='Histograma de Precios Medios', title_x=0.5)\n",
    "fig.update_traces(opacity=0.5)\n",
    "fig.show()"
   ]
  },
  {
   "cell_type": "markdown",
   "metadata": {},
   "source": [
    "**Interpretación**\n",
    "\n",
    "Se observa una clara tendencia en los precios en el rango de 10 a 30 euros.\n",
    "\n",
    "Es un histograma desplazado a la derecha. Se observa una diferencia entre media y mediana, la media se encuentra desplazada hacia la derecha.\n",
    " "
   ]
  },
  {
   "cell_type": "markdown",
   "metadata": {},
   "source": [
    "*Diagrama de cajas para observar más a fondo los precios.*"
   ]
  },
  {
   "cell_type": "code",
   "execution_count": null,
   "metadata": {},
   "outputs": [],
   "source": [
    "fig = px.box(data_frame= df_precio,\n",
    "                   x = 'Precio medio')\n",
    "\n",
    "fig.update_layout(title='Diagrama de Caja de Precios Medios', title_x=0.5)\n",
    "fig.show()"
   ]
  },
  {
   "cell_type": "markdown",
   "metadata": {},
   "source": [
    "**Interpretación**\n",
    "\n",
    "La mediana de los precios es de 26 euros. A partir de 80 euros se consideran los precios de los juegos como outliers."
   ]
  },
  {
   "cell_type": "markdown",
   "metadata": {},
   "source": [
    "## ANÁLISIS DE LAS PUNTUACIONES"
   ]
  },
  {
   "cell_type": "markdown",
   "metadata": {},
   "source": [
    "*Puntuaciones más altas de los juegos separados por ediciones de juego.*"
   ]
  },
  {
   "cell_type": "code",
   "execution_count": null,
   "metadata": {},
   "outputs": [],
   "source": [
    "df_mas_puntuacion = df_juegos.sort_values(by='Puntuacion', ascending=False)\n",
    "df_mas_puntuacion[[\"Puntuacion\", \"Nombre\", \"Autores\", \"Edicion juegos\"]].head(10)"
   ]
  },
  {
   "cell_type": "markdown",
   "metadata": {},
   "source": [
    "**Interpretación**\n",
    "\n",
    "La lista destaca juegos de mesa bien valorados, como \"Terraforming Mars: Preludio\" y \"Pandemic Legacy: Temporada 1\". \n",
    "\n",
    "La presencia destacada de expansiones y reimplementaciones entre las mejores puntuaciones indica que probablemente los jugadores adquieren estas opciones con la certeza de que disfrutan del juego base."
   ]
  },
  {
   "cell_type": "markdown",
   "metadata": {},
   "source": [
    "*Histograma para ver las puntuaciones de los juegos separados por ediciones de juego.*"
   ]
  },
  {
   "cell_type": "code",
   "execution_count": null,
   "metadata": {},
   "outputs": [],
   "source": [
    "fig = px.histogram(data_frame=df_juegos, x='Puntuacion', facet_col='Edicion juegos',color = 'Edicion juegos')\n",
    "\n",
    "fig.update_layout(\n",
    "    title='Puntuaciones en las distintas ediciones de juegos',\n",
    "    xaxis_title='Puntuacion',\n",
    "    yaxis_title='Frecuencia',\n",
    "    bargap=0.1,\n",
    "    bargroupgap=0.1,\n",
    "    title_x=0.5\n",
    ")\n",
    "\n",
    "fig.update_traces(opacity=0.5, showlegend=False)\n",
    "fig.show()"
   ]
  },
  {
   "cell_type": "markdown",
   "metadata": {},
   "source": [
    "**Interpretación**\n",
    "\n",
    "Las Expansiones de juegos son un mercado menos homogeneo que los juegos base, pero suele tener mayor éxito, esto puede deberse a la aceptación previa del juego base. Se observa que no hay datos significativos con Reimplementación  Integración de juegos, sin embargo encabezan las listas junto con Expansión."
   ]
  },
  {
   "cell_type": "markdown",
   "metadata": {},
   "source": [
    "## CONCLUSIONES DEL ANÁLISIS"
   ]
  },
  {
   "cell_type": "markdown",
   "metadata": {},
   "source": [
    "**Tendencias en la Industria:**\n",
    "\n",
    "Hay una tendencia creciente en la producción de juegos de mesa, sugiriendo un aumento en el interés en la industria en los últimos años. La mayoría de los juegos están diseñados para grupos más pequeños (2-6 personas), con una experiencia de juego de duración moderada, lo que los hace adaptables a un tiempo limitado disponible.\n",
    "\n",
    "**Accesibilidad y Diversidad:**\n",
    "\n",
    "Los juegos son adecuados tanto para niños como para adultos, presentan baja complejidad y dependencia del idioma, haciéndolos accesibles para un público amplio. La diversidad en las categorías de ediciones de juegos revela distintas estrategias y enfoques en la industria.\n",
    "\n",
    "**Autores y Contribuciones:**\n",
    "\n",
    "Un número significativo de juegos carece de autor identificado. Eric M. Lang destaca como el autor con el mayor número de juegos, abarcando diversas temáticas y universos.\n",
    "\n",
    "**Temáticas y Franquicias:**\n",
    "\n",
    "Tendencias notables incluyen un interés en juegos de cartas coleccionables (LCG), franquicias populares como Star Wars y Marvel, y temáticas de fantasía, especialmente relacionadas con Juego de Tronos.\n",
    "Destacan mecánicas como la gestión de mano, lanzamiento de dados y habilidades variables.\n",
    "\n",
    "**Crecimiento y Pandemia:**\n",
    "\n",
    "Se observa un crecimiento constante en la industria de los juegos de mesa, con un aumento significativo a partir de 2020, posiblemente atribuido al tiempo en casa durante la pandemia de COVID-19. La pandemia afectó sobre todo a las ediciones de juegos en 2020, pero hubo una pronta recuperación posteriormente.\n",
    "\n",
    "**Precios y Valoración:**\n",
    "\n",
    "Hay una clara tendencia en los precios en el rango de 10 a 30 euros, con juegos bien valorados como \"Terraforming Mars: Preludio\" y \"Pandemic Legacy: Temporada 1\".\n",
    "La presencia destacada de expansiones y reimplementaciones entre las mejores puntuaciones indica que los jugadores adquieren estas opciones con la certeza de que disfrutan del juego base.\n",
    "\n",
    "**Impacto de la Complejidad y Duración:**\n",
    "\n",
    "La mayoría de los juegos tienen una duración concentrada entre 30 y 60 minutos, con una mediana de 45 minutos. A medida que la complejidad de los juegos de mesa aumenta, la edad de los jugadores también tiende a aumentar. Los juegos más complejos podrían tomar más tiempo en promedio.\n",
    "\n",
    "En resumen, la industria de juegos de mesa muestra un crecimiento constante, adaptándose a una variedad de públicos con juegos accesibles y diversificados. Las tendencias indican un interés en temáticas específicas, franquicias populares y un enfoque en juegos de duración moderada. La pandemia parece haber influido positivamente en el aumento de la producción y popularidad de juegos de mesa."
   ]
  }
 ],
 "metadata": {
  "kernelspec": {
   "display_name": "Python 3",
   "language": "python",
   "name": "python3"
  },
  "language_info": {
   "codemirror_mode": {
    "name": "ipython",
    "version": 3
   },
   "file_extension": ".py",
   "mimetype": "text/x-python",
   "name": "python",
   "nbconvert_exporter": "python",
   "pygments_lexer": "ipython3",
   "version": "3.11.4"
  }
 },
 "nbformat": 4,
 "nbformat_minor": 2
}
