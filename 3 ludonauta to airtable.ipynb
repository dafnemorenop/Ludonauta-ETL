{
 "cells": [
  {
   "cell_type": "code",
   "execution_count": null,
   "metadata": {},
   "outputs": [],
   "source": [
    "import numpy as np\n",
    "import pandas as pd\n",
    "import requests\n",
    "from pprint import pprint"
   ]
  },
  {
   "cell_type": "code",
   "execution_count": null,
   "metadata": {},
   "outputs": [],
   "source": [
    "# Es necesario agregar tu propio token si quieres ver el funcionamiento de subida de datos a airtable\n",
    "\n",
    "base_id = \"appyddcaGTw6if8vV\"\n",
    "token_id = \"tu token\"\n",
    "table_id = \"tbl5DkDouUihJEShO\"\n",
    "\n",
    "airtable_url = \"https://api.airtable.com/v0/\"\n",
    "\n",
    "\n",
    "endpoint = f\"https://api.airtable.com/v0/{base_id}/{table_id}\"\n",
    "\n",
    "endpoint"
   ]
  },
  {
   "cell_type": "code",
   "execution_count": null,
   "metadata": {},
   "outputs": [],
   "source": [
    "headers = {\n",
    "    \"Authorization\":f\"Bearer {token_id} \",\n",
    "    \"Content-Type\": \"application/json\"\n",
    "}\n",
    "\n",
    "pprint(headers)"
   ]
  },
  {
   "cell_type": "code",
   "execution_count": null,
   "metadata": {},
   "outputs": [],
   "source": [
    "def convertir_a_lista(cadena):\n",
    "    return eval(cadena)\n",
    "\n",
    "df = pd.read_csv('juegos_ludonauta_limpios.csv', converters={'Autores': convertir_a_lista,\n",
    "                                                                    'Categorias': convertir_a_lista,\n",
    "                                                                    'Mecanicas' : convertir_a_lista,\n",
    "                                                                    'Juegos relacionados' : convertir_a_lista})"
   ]
  },
  {
   "cell_type": "code",
   "execution_count": null,
   "metadata": {},
   "outputs": [],
   "source": [
    "df.isna().sum()"
   ]
  },
  {
   "cell_type": "code",
   "execution_count": null,
   "metadata": {},
   "outputs": [],
   "source": [
    "df[df[\"Link\"].isna()]"
   ]
  },
  {
   "cell_type": "code",
   "execution_count": null,
   "metadata": {},
   "outputs": [],
   "source": [
    "response = requests.get(url = endpoint, headers = headers)\n",
    "\n",
    "response.json()"
   ]
  },
  {
   "cell_type": "code",
   "execution_count": null,
   "metadata": {},
   "outputs": [],
   "source": [
    "pprint({\"records\" : [{\"fields\" : {\"Link\" : \"ejmeplo\",\n",
    "                                  \"Nombre\" : \"nombre_juego\",\n",
    "                                  \"Fecha Publicación\" : 2022}}]})"
   ]
  },
  {
   "cell_type": "code",
   "execution_count": null,
   "metadata": {},
   "outputs": [],
   "source": [
    "datos_subir = {\"records\" : [{\"fields\" : df.iloc[0, :].to_dict()}],\n",
    "               \"typecast\" : True}\n",
    "\n",
    "pprint(datos_subir)"
   ]
  },
  {
   "cell_type": "code",
   "execution_count": null,
   "metadata": {},
   "outputs": [],
   "source": [
    "response = requests.post(url = endpoint, json = datos_subir, headers = headers)\n",
    "\n",
    "response.json()"
   ]
  },
  {
   "cell_type": "code",
   "execution_count": null,
   "metadata": {},
   "outputs": [],
   "source": [
    "%%time\n",
    "\n",
    "for i in range(df.shape[0]):\n",
    "\n",
    "    datos_subir = {\"records\" : [{\"fields\" : df.iloc[i, :].to_dict()}],\n",
    "                   \"typecast\" : True}\n",
    "    \n",
    "    response = requests.post(url = endpoint, json = datos_subir, headers = headers)\n"
   ]
  },
  {
   "cell_type": "code",
   "execution_count": null,
   "metadata": {},
   "outputs": [],
   "source": [
    "base_id = \"app7rphQpjYdtFAMM\"\n",
    "token_id = \"patYj0ekod7IkqHMq.b59d509464af0746238f3a63625a2e4ee737586f631c218828fffe138c782189\"\n",
    "table_id = \"tblyAG4wrWvNAhbOp\"\n",
    "\n",
    "airtable_url = \"https://api.airtable.com/v0/\"\n",
    "\n",
    "\n",
    "endpoint = f\"https://api.airtable.com/v0/{base_id}/{table_id}\"\n",
    "\n",
    "endpoint"
   ]
  },
  {
   "cell_type": "code",
   "execution_count": null,
   "metadata": {},
   "outputs": [],
   "source": [
    "headers = {\n",
    "    \"Authorization\":f\"Bearer {token_id} \",\n",
    "    \"Content-Type\": \"application/json\"\n",
    "}\n",
    "\n",
    "pprint(headers)"
   ]
  },
  {
   "cell_type": "code",
   "execution_count": null,
   "metadata": {},
   "outputs": [],
   "source": [
    "df2 = pd.read_csv('precios_limpios.csv', converters={'Nombre tienda': convertir_a_lista,\n",
    "                                                    'Disponibilidad' : convertir_a_lista})\n",
    "\n",
    "df2 = df2.drop(['Unnamed: 0', 'Unnamed: 0.1'], axis=1)"
   ]
  },
  {
   "cell_type": "code",
   "execution_count": null,
   "metadata": {},
   "outputs": [],
   "source": [
    "df2.isna().sum()"
   ]
  },
  {
   "cell_type": "code",
   "execution_count": null,
   "metadata": {},
   "outputs": [],
   "source": [
    "df2[df2['Link'].isna()]"
   ]
  },
  {
   "cell_type": "code",
   "execution_count": null,
   "metadata": {},
   "outputs": [],
   "source": [
    "response = requests.get(url = endpoint, headers = headers)\n",
    "\n",
    "response.json()"
   ]
  },
  {
   "cell_type": "code",
   "execution_count": null,
   "metadata": {},
   "outputs": [],
   "source": [
    "pprint({\"records\" : [{\"fields\" : {\"Link\" : \"ejmeplo\",\n",
    "                                  \"Tienda juego\" : \"Mundo juegos\",\n",
    "                                  \"Precio medio\" : 13.45}}]})"
   ]
  },
  {
   "cell_type": "code",
   "execution_count": null,
   "metadata": {},
   "outputs": [],
   "source": [
    "datos_subir = {\"records\" : [{\"fields\" : df2.iloc[0, :].to_dict()}],\n",
    "               \"typecast\" : True}\n",
    "\n",
    "pprint(datos_subir)"
   ]
  },
  {
   "cell_type": "code",
   "execution_count": null,
   "metadata": {},
   "outputs": [],
   "source": [
    "response = requests.post(url = endpoint, json = datos_subir, headers = headers)\n",
    "\n",
    "response.json()"
   ]
  },
  {
   "cell_type": "code",
   "execution_count": null,
   "metadata": {},
   "outputs": [],
   "source": [
    "%%time\n",
    "\n",
    "for i in range(df2.shape[0]):\n",
    "\n",
    "    datos_subir = {\"records\" : [{\"fields\" : df2.iloc[i, :].to_dict()}],\n",
    "                   \"typecast\" : True}\n",
    "    \n",
    "    response = requests.post(url = endpoint, json = datos_subir, headers = headers)"
   ]
  }
 ],
 "metadata": {
  "kernelspec": {
   "display_name": ".venv",
   "language": "python",
   "name": "python3"
  },
  "language_info": {
   "codemirror_mode": {
    "name": "ipython",
    "version": 3
   },
   "file_extension": ".py",
   "mimetype": "text/x-python",
   "name": "python",
   "nbconvert_exporter": "python",
   "pygments_lexer": "ipython3",
   "version": "3.11.4"
  }
 },
 "nbformat": 4,
 "nbformat_minor": 2
}
