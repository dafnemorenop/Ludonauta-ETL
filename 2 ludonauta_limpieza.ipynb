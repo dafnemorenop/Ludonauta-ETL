{
 "cells": [
  {
   "cell_type": "code",
   "execution_count": null,
   "metadata": {},
   "outputs": [],
   "source": [
    "import pandas as pd\n",
    "import numpy as np"
   ]
  },
  {
   "cell_type": "markdown",
   "metadata": {},
   "source": [
    "### Explicación de la limpieza de datos\n",
    "\n",
    "A continuación, se realiza una explicación detallado de la limpieza aplicada a las columnas del DataFrame de juegos:\n",
    "\n",
    "-\tHabía nombres duplicados, porque algunas reediciones se llamaban igual, por eso, se utilizaron los link como clave primaria.\n",
    "\n",
    "-\tLa puntuación se convirtió a número flotante.\n",
    "\n",
    "-\tA las columnas con listas, como Autores, Categorías, Mecánicas y Juegos relacionados, se cambiaron los NaN por Desconocido.\n",
    "\n",
    "-\tComo los juegos de mesa base no tienen juegos relacionados, porque son los juegos principales, los valores nulos pasaron a Ninguno.\n",
    "\n",
    "-\tA las columnas que no tenían outliers se les aplicó la media.\n",
    "\n",
    "-\tA Duración y Jugadores se le aplicó la mediana, se dividieron en mínimos y máximos y se crearon dos nuevas columnas con el resultado de su media. Se cambiaron los valores nulos, sabiendo que este procedimiento tiende a centrar visualmente los valores al graficar y que no es necesario para el análisis, pero se realizó puesto que la cantidad de valores nulos no era lo suficientemente alta como para afectar considerablemente la visualización gráfica.\n",
    "\n",
    "-\tEn el df de precios se creó una nueva columna con el precio medio y se unió con un merge al df de juegos.\n"
   ]
  },
  {
   "cell_type": "markdown",
   "metadata": {},
   "source": [
    "Lectura del CSV JUEGOS\n"
   ]
  },
  {
   "cell_type": "code",
   "execution_count": null,
   "metadata": {},
   "outputs": [],
   "source": [
    "df_juegos = pd.read_csv(\"juegos_ludonauta.csv\")\n"
   ]
  },
  {
   "cell_type": "markdown",
   "metadata": {},
   "source": [
    "Renombrar columnas para eliminar las tildes"
   ]
  },
  {
   "cell_type": "code",
   "execution_count": null,
   "metadata": {},
   "outputs": [],
   "source": [
    "df_juegos.rename(columns={'Unnamed: 0' : 'Link',\n",
    "                          'Fecha publicación' : 'Fecha publicacion',\n",
    "                          'Categorías' : 'Categorias',\n",
    "                          'Mecánicas' : 'Mecanicas',\n",
    "                          'Puntuación' : 'Puntuacion',\n",
    "                          'Jugadores mínimos' : 'Jugadores minimos',\n",
    "                          'Jugadores máximos' : 'Jugadores maximos',\n",
    "                          'Duración' : 'Duracion',\n",
    "                          'Duración mínima' : 'Duracion minima',\n",
    "                          'Duración máxima' : 'Duracion maxima',\n",
    "                          'Edición juegos' : 'Edicion juegos'}, inplace= True)"
   ]
  },
  {
   "cell_type": "code",
   "execution_count": null,
   "metadata": {},
   "outputs": [],
   "source": [
    "df_juegos.info()"
   ]
  },
  {
   "cell_type": "code",
   "execution_count": null,
   "metadata": {},
   "outputs": [],
   "source": [
    "# Visualización de los NaN's\n",
    "\n",
    "import plotly.express as px\n",
    "\n",
    "fig = px.imshow(df_juegos.isna(), labels=dict(x=\"Columnas\", y=\"Filas\"), x=df_juegos.columns, y=df_juegos.index)\n",
    "\n",
    "fig.update_layout(\n",
    "    title='Visualización de NaNs'\n",
    ")\n",
    "\n",
    "fig.show()"
   ]
  },
  {
   "cell_type": "code",
   "execution_count": null,
   "metadata": {},
   "outputs": [],
   "source": [
    "df_juegos.head()"
   ]
  },
  {
   "cell_type": "markdown",
   "metadata": {},
   "source": [
    "La cantidad de únicos de Link es la misma que de su tamaño total, es decir, cada fila de Link representa un valor único. Link lo utilizaremos de clave primaria con valores únicos."
   ]
  },
  {
   "cell_type": "code",
   "execution_count": null,
   "metadata": {},
   "outputs": [],
   "source": [
    "df_juegos[\"Link\"].nunique() == df_juegos.shape[0]\n"
   ]
  },
  {
   "cell_type": "markdown",
   "metadata": {},
   "source": [
    "Conversión de los string a lista"
   ]
  },
  {
   "cell_type": "code",
   "execution_count": null,
   "metadata": {},
   "outputs": [],
   "source": [
    "columnas = ['Autores', 'Categorias', 'Mecanicas', 'Juegos relacionados']\n",
    "\n",
    "for columna in columnas:\n",
    "    df_juegos[columna] = df_juegos[columna].apply(lambda x: eval(x) if not pd.isna(x) else None)"
   ]
  },
  {
   "cell_type": "markdown",
   "metadata": {},
   "source": [
    "Conversión de la columna Puntuacion a Typefloat"
   ]
  },
  {
   "cell_type": "code",
   "execution_count": null,
   "metadata": {},
   "outputs": [],
   "source": [
    "df_juegos['Puntuacion'] = df_juegos['Puntuacion'].apply(lambda x : float(x.replace(',', '.')))"
   ]
  },
  {
   "cell_type": "code",
   "execution_count": null,
   "metadata": {},
   "outputs": [],
   "source": [
    "df_juegos.info()"
   ]
  },
  {
   "cell_type": "code",
   "execution_count": null,
   "metadata": {},
   "outputs": [],
   "source": [
    "#Esto muestra que los valores nulos de Juegos relacionados se corresponden a los Juego de mesa base\n",
    "df_juegos[\"Edicion juegos\"].value_counts()"
   ]
  },
  {
   "cell_type": "code",
   "execution_count": null,
   "metadata": {},
   "outputs": [],
   "source": [
    "# Reemplazar valores NaN en la columna Juegos relacionados por \"Ninguno\", porque no tienen relación con ninguno.\n",
    "df_juegos['Juegos relacionados'] = df_juegos['Juegos relacionados'].apply(lambda d: d if isinstance(d, list) else ['Ninguno'])"
   ]
  },
  {
   "cell_type": "code",
   "execution_count": null,
   "metadata": {},
   "outputs": [],
   "source": [
    "# Ya no hay valores NaN\n",
    "nan_juegos_relacionados = df_juegos[df_juegos[\"Juegos relacionados\"].isna()]\n",
    "nan_juegos_relacionados"
   ]
  },
  {
   "cell_type": "code",
   "execution_count": null,
   "metadata": {},
   "outputs": [],
   "source": [
    "df_juegos[df_juegos[\"Edicion juegos\"] == \"Juego de mesa base\"]"
   ]
  },
  {
   "cell_type": "code",
   "execution_count": null,
   "metadata": {},
   "outputs": [],
   "source": [
    "edad = df_juegos[\"Edad\"].unique()\n",
    "edad.sort()\n",
    "print(edad)"
   ]
  },
  {
   "cell_type": "code",
   "execution_count": null,
   "metadata": {},
   "outputs": [],
   "source": [
    "# No hay valores outliers\n",
    "df_juegos[\"Edad\"].value_counts()"
   ]
  },
  {
   "cell_type": "code",
   "execution_count": null,
   "metadata": {},
   "outputs": [],
   "source": [
    "# Le aplicamos la media de edad a los valores NaN\n",
    "media_edad = df_juegos['Edad'].mean()\n",
    "df_juegos[\"Edad\"].fillna(value= media_edad, inplace=True)"
   ]
  },
  {
   "cell_type": "code",
   "execution_count": null,
   "metadata": {},
   "outputs": [],
   "source": [
    "# Le aplicamos la media de complejidad a los valores NaN\n",
    "media_complejidad = df_juegos['Complejidad'].mean()\n",
    "df_juegos[\"Complejidad\"].fillna(value= media_complejidad, inplace=True)"
   ]
  },
  {
   "cell_type": "code",
   "execution_count": null,
   "metadata": {},
   "outputs": [],
   "source": [
    "# Le aplicamos la media de Dep idioma a los valores NaN\n",
    "media_idioma = df_juegos['Dep idioma'].mean()\n",
    "df_juegos[\"Dep idioma\"].fillna(value= media_idioma, inplace=True)"
   ]
  },
  {
   "cell_type": "code",
   "execution_count": null,
   "metadata": {},
   "outputs": [],
   "source": [
    "# En duración mínima y máxima hay outliers, por lo que aplicamos mediana\n",
    "df_juegos[\"Duracion minima\"].value_counts()"
   ]
  },
  {
   "cell_type": "code",
   "execution_count": null,
   "metadata": {},
   "outputs": [],
   "source": [
    "# Aplicamos mediana a duración mínima\n",
    "mediana_duracion_minima = df_juegos['Duracion minima'].median()\n",
    "df_juegos[\"Duracion minima\"].fillna(value= mediana_duracion_minima, inplace=True)"
   ]
  },
  {
   "cell_type": "code",
   "execution_count": null,
   "metadata": {},
   "outputs": [],
   "source": [
    "# Aplicamos mediana a duración máxima\n",
    "mediana_duracion_maxima = df_juegos['Duracion maxima'].median()\n",
    "df_juegos[\"Duracion maxima\"].fillna(value= mediana_duracion_maxima, inplace=True)"
   ]
  },
  {
   "cell_type": "code",
   "execution_count": null,
   "metadata": {},
   "outputs": [],
   "source": [
    "# Aplicamos la mediana a la duración en una nueva columna: \"Mediana duración\"\n",
    "df_juegos['Mediana duracion'] = df_juegos[['Duracion minima', 'Duracion maxima']].median(axis=1)"
   ]
  },
  {
   "cell_type": "code",
   "execution_count": null,
   "metadata": {},
   "outputs": [],
   "source": [
    "# No tiene valores NaN la columna \"Mediana duración\"\n",
    "nan_mediana_duracion = df_juegos[df_juegos[\"Mediana duracion\"].isna()]\n",
    "nan_mediana_duracion"
   ]
  },
  {
   "cell_type": "code",
   "execution_count": null,
   "metadata": {},
   "outputs": [],
   "source": [
    "# Rellenamos los NaN de Duración con la mediana, que está recogida en 'Mediana duración'\n",
    "df_juegos['Duracion'].fillna(df_juegos['Mediana duracion'], inplace=True)"
   ]
  },
  {
   "cell_type": "code",
   "execution_count": null,
   "metadata": {},
   "outputs": [],
   "source": [
    "# Jugadores vacío se había guardado \"-\", lo modificamos\n",
    "df_juegos[\"Jugadores\"].replace(\"-\", np.nan, inplace= True)"
   ]
  },
  {
   "cell_type": "code",
   "execution_count": null,
   "metadata": {},
   "outputs": [],
   "source": [
    "df_juegos[\"Jugadores minimos\"].value_counts()"
   ]
  },
  {
   "cell_type": "code",
   "execution_count": null,
   "metadata": {},
   "outputs": [],
   "source": [
    "# Aplicamos mediana a jugadores mínimos y rellenamos los NaN\n",
    "mediana_jugadores_minimos = df_juegos[\"Jugadores minimos\"].median()\n",
    "df_juegos[\"Jugadores minimos\"].fillna(value= mediana_jugadores_minimos, inplace=True)"
   ]
  },
  {
   "cell_type": "code",
   "execution_count": null,
   "metadata": {},
   "outputs": [],
   "source": [
    "# Aplicamos mediana a jugadores máximos, y rellenamos los NaN\n",
    "mediana_jugadores_maximos = df_juegos[\"Jugadores maximos\"].median()\n",
    "df_juegos[\"Jugadores maximos\"].fillna(value= mediana_jugadores_maximos, inplace=True)"
   ]
  },
  {
   "cell_type": "code",
   "execution_count": null,
   "metadata": {},
   "outputs": [],
   "source": [
    "# Aplicamos la media a los jugadores en una nueva columna: \"Mediana jugadores\"\n",
    "df_juegos[\"Mediana jugadores\"] = df_juegos[[\"Jugadores minimos\", \"Jugadores maximos\"]].median(axis=1)"
   ]
  },
  {
   "cell_type": "code",
   "execution_count": null,
   "metadata": {},
   "outputs": [],
   "source": [
    "# Rellenamos los NaN de Jugadores con la media, que está recogida en \"Mediana jugadores\"\n",
    "df_juegos[\"Jugadores\"].fillna(df_juegos[\"Mediana jugadores\"], inplace=True)"
   ]
  },
  {
   "cell_type": "code",
   "execution_count": null,
   "metadata": {},
   "outputs": [],
   "source": [
    "# Reemplazamos los valores NaN por \"Desconocido\" en: Autores, Categorías y Mecánicas.\n",
    "df_juegos['Autores'] = df_juegos['Autores'].apply(lambda d: d if isinstance(d, list) else ['Desconocido'])\n",
    "df_juegos['Categorias'] = df_juegos['Categorias'].apply(lambda d: d if isinstance(d, list) else ['Desconocido'])\n",
    "df_juegos['Mecanicas'] = df_juegos['Mecanicas'].apply(lambda d: d if isinstance(d, list) else ['Desconocido'])"
   ]
  },
  {
   "cell_type": "code",
   "execution_count": null,
   "metadata": {},
   "outputs": [],
   "source": [
    "# Reemplazamos en la columna Autores '(No acreditado)' por 'Desconocido'\n",
    "def cambiar_string(lista):\n",
    "    return [item.replace('(No acreditado)', 'Desconocido') if isinstance(item, str) else item for item in lista]\n",
    "\n",
    "df_juegos['Autores'] = df_juegos['Autores'].apply(cambiar_string)"
   ]
  },
  {
   "cell_type": "code",
   "execution_count": null,
   "metadata": {},
   "outputs": [],
   "source": [
    "# Eliminar en la columna Edicion juegos que termine en 'de'\n",
    "df_juegos['Edicion juegos'] = df_juegos['Edicion juegos'].apply(lambda x: x.replace(' de', ''))"
   ]
  },
  {
   "cell_type": "code",
   "execution_count": null,
   "metadata": {},
   "outputs": [],
   "source": [
    "# No tenemos juegos duplicados, aunque les hayan puesto el mismo nombre a las reediciones\n",
    "duplicados = df_juegos.duplicated(subset=['Nombre', 'Fecha publicacion', 'Edicion juegos'])\n",
    "filas_duplicadas = df_juegos[duplicados]\n",
    "filas_duplicadas"
   ]
  },
  {
   "cell_type": "code",
   "execution_count": null,
   "metadata": {},
   "outputs": [],
   "source": [
    "# Número de Nan's en cada columna\n",
    "df_juegos.isna().sum()"
   ]
  },
  {
   "cell_type": "code",
   "execution_count": null,
   "metadata": {},
   "outputs": [],
   "source": [
    "df_juegos.columns"
   ]
  },
  {
   "cell_type": "code",
   "execution_count": null,
   "metadata": {},
   "outputs": [],
   "source": [
    "df_juegos.shape"
   ]
  },
  {
   "cell_type": "code",
   "execution_count": null,
   "metadata": {},
   "outputs": [],
   "source": [
    "df_juegos.head()"
   ]
  },
  {
   "cell_type": "code",
   "execution_count": null,
   "metadata": {},
   "outputs": [],
   "source": [
    "duplicados = df_juegos.duplicated(subset=['ID_Producto'])\n",
    "\n",
    "# Mostrar los registros duplicados\n",
    "print(df_juegos[duplicados])"
   ]
  },
  {
   "cell_type": "code",
   "execution_count": null,
   "metadata": {},
   "outputs": [],
   "source": [
    "# CSV CON LOS DATOS LIMPIOS DE JUEGOS\n",
    "\n",
    "df_juegos.to_csv(\"juegos_ludonauta_limpios.csv\", index= False)"
   ]
  }
 ],
 "metadata": {
  "kernelspec": {
   "display_name": "Python 3",
   "language": "python",
   "name": "python3"
  },
  "language_info": {
   "codemirror_mode": {
    "name": "ipython",
    "version": 3
   },
   "file_extension": ".py",
   "mimetype": "text/x-python",
   "name": "python",
   "nbconvert_exporter": "python",
   "pygments_lexer": "ipython3",
   "version": "3.11.4"
  }
 },
 "nbformat": 4,
 "nbformat_minor": 2
}
