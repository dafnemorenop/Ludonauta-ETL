{
 "cells": [
  {
   "cell_type": "code",
   "execution_count": null,
   "metadata": {},
   "outputs": [],
   "source": [
    "import numpy as np\n",
    "import pandas as pd\n",
    "\n",
    "import requests\n",
    "from time import sleep\n",
    "\n",
    "from pprint import pprint"
   ]
  },
  {
   "cell_type": "code",
   "execution_count": null,
   "metadata": {},
   "outputs": [],
   "source": [
    "# Claves para los datos sobre JUEGOS de Ludonauta\n",
    "# Es necesario agregar tu propio token si quieres ver el funcionamiento de la extracción de datos a airtable\n",
    "\n",
    "base_id = \"appyddcaGTw6if8vV\"\n",
    "token_id = \"tu token\"\n",
    "table_id = \"tbl5DkDouUihJEShO\"\n",
    "\n",
    "airtable_url = \"https://api.airtable.com/v0/\"\n",
    "\n",
    "\n",
    "endpoint = f\"https://api.airtable.com/v0/{base_id}/{table_id}\"\n",
    "\n",
    "endpoint"
   ]
  },
  {
   "cell_type": "code",
   "execution_count": null,
   "metadata": {},
   "outputs": [],
   "source": [
    "headers = {\n",
    "    \"Authorization\":f\"Bearer {token_id} \",\n",
    "    \"Content-Type\": \"application/json\"\n",
    "}\n",
    "\n",
    "pprint(headers)"
   ]
  },
  {
   "cell_type": "code",
   "execution_count": null,
   "metadata": {},
   "outputs": [],
   "source": [
    "response = requests.get(url = endpoint, headers = headers)\n",
    "\n",
    "response.json()"
   ]
  },
  {
   "cell_type": "code",
   "execution_count": null,
   "metadata": {},
   "outputs": [],
   "source": [
    "params = {\"offset\" : None}\n",
    "\n",
    "df_airtable = pd.DataFrame()\n",
    "\n",
    "while params.get(\"offset\") != None or df_airtable.shape[0] == 0:\n",
    "    \n",
    "    response = requests.get(url = endpoint, headers = headers, params = params)\n",
    "    \n",
    "    print(response.url)\n",
    "    \n",
    "    print(f\"response: {response.status_code}\")\n",
    "    \n",
    "    params[\"offset\"] = response.json().get(\"offset\")\n",
    "    \n",
    "    print(params.get(\"offset\"))\n",
    "    \n",
    "    df_airtable = pd.concat([df_airtable, pd.json_normalize(response.json()[\"records\"])], ignore_index = True)\n",
    "    \n",
    "    sleep(0.5)\n",
    "    \n",
    "df_airtable.shape[0]"
   ]
  },
  {
   "cell_type": "code",
   "execution_count": null,
   "metadata": {},
   "outputs": [],
   "source": [
    "df_juegos = df_airtable"
   ]
  },
  {
   "cell_type": "code",
   "execution_count": null,
   "metadata": {},
   "outputs": [],
   "source": [
    "df_juegos = df_juegos.drop(['id', 'createdTime'], axis =1)"
   ]
  },
  {
   "cell_type": "code",
   "execution_count": null,
   "metadata": {},
   "outputs": [],
   "source": [
    "df_juegos = df_juegos.rename(columns={'fields.Juegos relacionados' : 'Juegos relacionados',\n",
    "                                      'fields.Autores' :'Autores',\n",
    "                                      'fields.Dep idioma' : 'Dep idioma',\n",
    "                                      'fields.Edad' : 'Edad',\n",
    "                                      'fields.Jugadores maximos' : 'Jugadores maximos',\t\n",
    "                                      'fields.Duracion maxima' : 'Duracion maxima',\t\n",
    "                                      'fields.Jugadores minimos' : 'Jugadores minimos',\n",
    "                                      'fields.Nombre' : 'Nombre',\t\n",
    "                                      'fields.Edicion juegos' : 'Edicion juegos', \n",
    "                                      'fields.Duracion' : 'Duracion',\n",
    "                                      'fields.Complejidad' : 'Complejidad',\t\n",
    "                                      'fields.Mediana duracion' : 'Mediana duracion',\n",
    "                                      'fields.Puntuacion' : 'Puntuacion',\t\n",
    "                                      'fields.Link' : 'Link',\t\n",
    "                                      'fields.Duracion minima' : 'Duracion minima',\n",
    "                                      'fields.Categorias' :'Categorias',\t\n",
    "                                      'fields.Jugadores': 'Jugadores',\t\n",
    "                                      'fields.Mecanicas' : 'Mecanicas',\t\n",
    "                                      'fields.Fecha publicacion' : 'Fecha publicacion',\t\n",
    "                                      'fields.Mediana jugadores' : 'Mediana jugadores'})"
   ]
  },
  {
   "cell_type": "code",
   "execution_count": null,
   "metadata": {},
   "outputs": [],
   "source": [
    "df_juegos.head(1)"
   ]
  },
  {
   "cell_type": "code",
   "execution_count": null,
   "metadata": {},
   "outputs": [],
   "source": [
    "df_juegos.to_csv('juegos_ludonauta_airtable.csv')"
   ]
  },
  {
   "cell_type": "code",
   "execution_count": null,
   "metadata": {},
   "outputs": [],
   "source": [
    "# Claves para los datos sobre PRECIOS de Ludonauta\n",
    "base_id = \"app7rphQpjYdtFAMM\"\n",
    "token_id = \"patYj0ekod7IkqHMq.b59d509464af0746238f3a63625a2e4ee737586f631c218828fffe138c782189\"\n",
    "table_id = \"tblyAG4wrWvNAhbOp\"\n",
    "\n",
    "airtable_url = \"https://api.airtable.com/v0/\"\n",
    "\n",
    "\n",
    "endpoint = f\"https://api.airtable.com/v0/{base_id}/{table_id}\"\n",
    "\n",
    "endpoint"
   ]
  },
  {
   "cell_type": "code",
   "execution_count": null,
   "metadata": {},
   "outputs": [],
   "source": [
    "headers = {\n",
    "    \"Authorization\":f\"Bearer {token_id} \",\n",
    "    \"Content-Type\": \"application/json\"\n",
    "}\n",
    "\n",
    "pprint(headers)"
   ]
  },
  {
   "cell_type": "code",
   "execution_count": null,
   "metadata": {},
   "outputs": [],
   "source": [
    "response = requests.get(url = endpoint, headers = headers)\n",
    "\n",
    "response.json()"
   ]
  },
  {
   "cell_type": "code",
   "execution_count": null,
   "metadata": {},
   "outputs": [],
   "source": [
    "params = {\"offset\" : None}\n",
    "\n",
    "df_airtable = pd.DataFrame()\n",
    "\n",
    "while params.get(\"offset\") != None or df_airtable.shape[0] == 0:\n",
    "    \n",
    "    response = requests.get(url = endpoint, headers = headers, params = params)\n",
    "    \n",
    "    print(response.url)\n",
    "    \n",
    "    print(f\"response: {response.status_code}\")\n",
    "    \n",
    "    params[\"offset\"] = response.json().get(\"offset\")\n",
    "    \n",
    "    print(params.get(\"offset\"))\n",
    "    \n",
    "    df_airtable = pd.concat([df_airtable, pd.json_normalize(response.json()[\"records\"])], ignore_index = True)\n",
    "    \n",
    "    sleep(0.5)\n",
    "    \n",
    "df_airtable.shape[0]"
   ]
  },
  {
   "cell_type": "code",
   "execution_count": null,
   "metadata": {},
   "outputs": [],
   "source": [
    "df_precios = df_airtable"
   ]
  },
  {
   "cell_type": "code",
   "execution_count": null,
   "metadata": {},
   "outputs": [],
   "source": [
    "df_precios = df_precios.drop(['id', 'createdTime'], axis=1)"
   ]
  },
  {
   "cell_type": "code",
   "execution_count": null,
   "metadata": {},
   "outputs": [],
   "source": [
    "df_precios = df_precios.rename(columns={'fields.Nombre tienda': 'Nombre tienda',\n",
    "                                        'fields.Precio medio' : 'Precio medio',\n",
    "                                        'fields.Link' : 'Link',\n",
    "                                        'fields.Precio' : 'Precio',\n",
    "                                        'fields.Disponibilidad' : 'Disponibilidad'})\n",
    "\n",
    "df_precios.head()"
   ]
  },
  {
   "cell_type": "code",
   "execution_count": null,
   "metadata": {},
   "outputs": [],
   "source": [
    "df_precios.to_csv('precios_ludonauta_airtable.csv')"
   ]
  }
 ],
 "metadata": {
  "kernelspec": {
   "display_name": "Python 3",
   "language": "python",
   "name": "python3"
  },
  "language_info": {
   "codemirror_mode": {
    "name": "ipython",
    "version": 3
   },
   "file_extension": ".py",
   "mimetype": "text/x-python",
   "name": "python",
   "nbconvert_exporter": "python",
   "pygments_lexer": "ipython3",
   "version": "3.11.4"
  }
 },
 "nbformat": 4,
 "nbformat_minor": 2
}
